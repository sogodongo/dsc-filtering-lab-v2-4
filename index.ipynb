{
 "cells": [
  {
   "cell_type": "markdown",
   "metadata": {},
   "source": [
    "# Filtering Data with SQL - Lab"
   ]
  },
  {
   "cell_type": "markdown",
   "metadata": {},
   "source": [
    "## Introduction \n",
    "\n",
    "NASA wants to go to Mars! Before they build their rocket, NASA needs to track information about all of the planets in the Solar System. In this lab, you'll practice querying the database with various `SELECT` statements. This will include selecting different columns and implementing other SQL clauses like `WHERE` to return the data desired."
   ]
  },
  {
   "cell_type": "markdown",
   "metadata": {},
   "source": [
    "<img src=\"https://raw.githubusercontent.com/learn-co-curriculum/dsc-filtering-lab-v2-4/master/images/planets.png\" alt=\"image of solar system\" width=\"600\">"
   ]
  },
  {
   "cell_type": "markdown",
   "metadata": {},
   "source": [
    "## Objectives\n",
    "\n",
    "You will practice the following:\n",
    "\n",
    "* Retrieve a subset of records from a table using a `WHERE` clause\n",
    "* Filter results using conditional operators such as `BETWEEN`, `IS NULL`, and `LIKE`\n",
    "* Apply an aggregate function to the result of a filtered query"
   ]
  },
  {
   "cell_type": "markdown",
   "metadata": {},
   "source": [
    "## Connecting to the Database\n",
    "\n",
    "To get started, import `sqlite3` as well as `pandas` for conveniently displaying results. Then, connect to the SQLite database located at `planets.db`. "
   ]
  },
  {
   "cell_type": "code",
   "execution_count": 3,
   "metadata": {},
   "outputs": [],
   "source": [
    "import sqlite3\n",
    "import pandas as pd\n",
    "\n",
    "# Connecting to the SQLite database\n",
    "conn = sqlite3.connect('planets.db')\n",
    "\n"
   ]
  },
  {
   "cell_type": "markdown",
   "metadata": {},
   "source": [
    "## Database Schema\n",
    "\n",
    "This database contains a single table, `planets`. This is the schema:\n",
    "\n",
    "```\n",
    "CREATE TABLE planets (\n",
    "  id INTEGER PRIMARY KEY,\n",
    "  name TEXT,\n",
    "  color TEXT,\n",
    "  num_of_moons INTEGER,\n",
    "  mass REAL,\n",
    "  rings BOOLEAN\n",
    ");\n",
    "```\n",
    "\n",
    "The data looks something like this:\n",
    "\n",
    "| id | name    | color      | num_of_moons | mass   | rings |\n",
    "| -- | ------- | ---------- | ------------ | ------ | ----- |\n",
    "| 1  | Mercury | gray       | 0            | 0.55   | FALSE |\n",
    "| 2  | Venus   | yellow     | 0            | 0.82   | FALSE |\n",
    "| 3  | Earth   | blue       | 1            | 1.00   | FALSE |\n",
    "| 4  | Mars    | red        | 2            | 0.11   | FALSE |\n",
    "| 5  | Jupiter | orange     | 67           | 317.90 | FALSE |\n",
    "| 6  | Saturn  | hazel      | 62           | 95.19  | TRUE  |\n",
    "| 7  | Uranus  | light blue | 27           | 14.54  | TRUE  |\n",
    "| 8  | Neptune | dark blue  | 14           | 17.15  | TRUE  |"
   ]
  },
  {
   "cell_type": "markdown",
   "metadata": {},
   "source": [
    "## SQL Queries\n",
    "\n",
    "Write SQL queries for each of the statements below using the same pandas wrapping syntax from the previous lesson."
   ]
  },
  {
   "cell_type": "markdown",
   "metadata": {},
   "source": [
    "### 1. Select just the `name` and `color` of each planet"
   ]
  },
  {
   "cell_type": "code",
   "execution_count": 4,
   "metadata": {},
   "outputs": [
    {
     "name": "stdout",
     "output_type": "stream",
     "text": [
      "      name       color\n",
      "0  Mercury        gray\n",
      "1    Venus      yellow\n",
      "2    Earth        blue\n",
      "3     Mars         red\n",
      "4  Jupiter      orange\n",
      "5   Saturn       hazel\n",
      "6   Uranus  light blue\n",
      "7  Neptune   dark blue\n"
     ]
    }
   ],
   "source": [
    "# Querying to select name and color columns from the planets table\n",
    "query = \"SELECT name, color FROM planets\"\n",
    "\n",
    "# Executing the query and storing the result in a DataFrame\n",
    "result = pd.read_sql_query(query, conn)\n",
    "\n",
    "# Displaying the result\n",
    "print(result)\n"
   ]
  },
  {
   "cell_type": "markdown",
   "metadata": {},
   "source": [
    "### 2. Select all columns for each planet whose `num_of_moons` is 0"
   ]
  },
  {
   "cell_type": "code",
   "execution_count": 5,
   "metadata": {},
   "outputs": [
    {
     "name": "stdout",
     "output_type": "stream",
     "text": [
      "   id     name   color  num_of_moons  mass  rings\n",
      "0   1  Mercury    gray             0  0.55      0\n",
      "1   2    Venus  yellow             0  0.82      0\n"
     ]
    }
   ],
   "source": [
    "# Querying to select all columns for planets with num_of_moons = 0\n",
    "query = \"SELECT * FROM planets WHERE num_of_moons = 0\"\n",
    "\n",
    "# Executing the query and storing the result in a DataFrame\n",
    "result = pd.read_sql_query(query, conn)\n",
    "\n",
    "# Result\n",
    "print(result)\n"
   ]
  },
  {
   "cell_type": "markdown",
   "metadata": {},
   "source": [
    "### 3. Select the `name` and `mass` of each planet whose `name` has exactly 7 letters"
   ]
  },
  {
   "cell_type": "code",
   "execution_count": 6,
   "metadata": {},
   "outputs": [
    {
     "name": "stdout",
     "output_type": "stream",
     "text": [
      "      name    mass\n",
      "0  Mercury    0.55\n",
      "1  Jupiter  317.90\n",
      "2  Neptune   17.15\n"
     ]
    }
   ],
   "source": [
    "# Querying to select name and mass of planets with name having exactly 7 letters\n",
    "query = \"SELECT name, mass FROM planets WHERE length(name) = 7\"\n",
    "\n",
    "# Executing the query and storing the result in a DataFrame\n",
    "result = pd.read_sql_query(query, conn)\n",
    "\n",
    "print(result)\n"
   ]
  },
  {
   "cell_type": "markdown",
   "metadata": {},
   "source": [
    "### 4. Select all columns for each planet whose `mass` is greater than 1.00"
   ]
  },
  {
   "cell_type": "code",
   "execution_count": 7,
   "metadata": {},
   "outputs": [
    {
     "name": "stdout",
     "output_type": "stream",
     "text": [
      "   id     name       color  num_of_moons    mass  rings\n",
      "0   5  Jupiter      orange            68  317.90      0\n",
      "1   6   Saturn       hazel            62   95.19      1\n",
      "2   7   Uranus  light blue            27   14.54      1\n",
      "3   8  Neptune   dark blue            14   17.15      1\n"
     ]
    }
   ],
   "source": [
    "# Querying to select all columns for planets with mass greater than 1.00\n",
    "query = \"SELECT * FROM planets WHERE mass > 1.00\"\n",
    "\n",
    "# Executing the query and storing the result in a DataFrame\n",
    "result = pd.read_sql_query(query, conn)\n",
    "\n",
    "# result\n",
    "print(result)\n"
   ]
  },
  {
   "cell_type": "markdown",
   "metadata": {},
   "source": [
    "### 5. Select the `name` and `mass` of each planet whose `mass` is less than or equal to 1.00"
   ]
  },
  {
   "cell_type": "code",
   "execution_count": 8,
   "metadata": {},
   "outputs": [
    {
     "name": "stdout",
     "output_type": "stream",
     "text": [
      "      name  mass\n",
      "0  Mercury  0.55\n",
      "1    Venus  0.82\n",
      "2    Earth  1.00\n",
      "3     Mars  0.11\n"
     ]
    }
   ],
   "source": [
    "query = \"SELECT name, mass FROM planets WHERE mass <= 1.00\"\n",
    "\n",
    "result = pd.read_sql_query(query, conn)\n",
    "\n",
    "print(result)"
   ]
  },
  {
   "cell_type": "markdown",
   "metadata": {},
   "source": [
    "### 6. Select the `name` and `mass` of each planet whose `mass` is between 0 and 50"
   ]
  },
  {
   "cell_type": "code",
   "execution_count": 9,
   "metadata": {},
   "outputs": [
    {
     "name": "stdout",
     "output_type": "stream",
     "text": [
      "      name   mass\n",
      "0  Mercury   0.55\n",
      "1    Venus   0.82\n",
      "2    Earth   1.00\n",
      "3     Mars   0.11\n",
      "4   Uranus  14.54\n",
      "5  Neptune  17.15\n"
     ]
    }
   ],
   "source": [
    "query = \"SELECT name, mass FROM planets WHERE mass BETWEEN 0 AND 50\"\n",
    "\n",
    "result = pd.read_sql_query(query, conn)\n",
    "\n",
    "print(result)"
   ]
  },
  {
   "cell_type": "markdown",
   "metadata": {},
   "source": [
    "### 7. Select all columns for planets that have at least one moon and a `mass` less than 1.00\n",
    "\n",
    "***Hint:*** You can use `AND` to chain together two conditions in SQL, similar to `and` in Python"
   ]
  },
  {
   "cell_type": "code",
   "execution_count": 10,
   "metadata": {},
   "outputs": [
    {
     "name": "stdout",
     "output_type": "stream",
     "text": [
      "   id  name color  num_of_moons  mass  rings\n",
      "0   4  Mars   red             2  0.11      0\n"
     ]
    }
   ],
   "source": [
    "query = \"SELECT * FROM planets WHERE num_of_moons > 0 AND mass < 1.00\"\n",
    "\n",
    "result = pd.read_sql_query(query, conn)\n",
    "\n",
    "print(result)"
   ]
  },
  {
   "cell_type": "markdown",
   "metadata": {},
   "source": [
    "### 8. Select the `name` and `color` of planets that have a `color` containing the string \"blue\""
   ]
  },
  {
   "cell_type": "code",
   "execution_count": 11,
   "metadata": {},
   "outputs": [
    {
     "name": "stdout",
     "output_type": "stream",
     "text": [
      "      name       color\n",
      "0    Earth        blue\n",
      "1   Uranus  light blue\n",
      "2  Neptune   dark blue\n"
     ]
    }
   ],
   "source": [
    "# Querying to select the name and color of planets with a color containing the string \"blue\"\n",
    "query = \"SELECT name, color FROM planets WHERE color LIKE '%blue%'\"\n",
    "\n",
    "result = pd.read_sql_query(query, conn)\n",
    "\n",
    "print(result)"
   ]
  },
  {
   "cell_type": "markdown",
   "metadata": {},
   "source": [
    "### 9. Select the count of planets that don't have rings as `planets_without_rings`\n",
    "\n",
    "Note: even though the schema states that `rings` is a `BOOLEAN` and the example table shows values `TRUE` and `FALSE`, SQLite does not actually support booleans natively. From the [documentation](https://www.sqlite.org/datatype3.html#boolean_datatype):\n",
    "\n",
    "> SQLite does not have a separate Boolean storage class. Instead, Boolean values are stored as integers 0 (false) and 1 (true)."
   ]
  },
  {
   "cell_type": "code",
   "execution_count": 12,
   "metadata": {},
   "outputs": [
    {
     "name": "stdout",
     "output_type": "stream",
     "text": [
      "5\n"
     ]
    }
   ],
   "source": [
    "# Querying to select the count of planets without rings\n",
    "query = \"SELECT COUNT(*) AS planets_without_rings FROM planets WHERE rings = 0\"\n",
    "\n",
    "result = pd.read_sql_query(query, conn)\n",
    "\n",
    "# Accessing the count of planets without rings\n",
    "count = result['planets_without_rings'].values[0]\n",
    "\n",
    "print(count)\n"
   ]
  },
  {
   "cell_type": "markdown",
   "metadata": {},
   "source": [
    "### 10. Select the name of all planets, along with a value `has_rings` that returns \"Yes\" if the planet does have rings, and \"No\" if it does not"
   ]
  },
  {
   "cell_type": "code",
   "execution_count": 13,
   "metadata": {},
   "outputs": [
    {
     "name": "stdout",
     "output_type": "stream",
     "text": [
      "      name has_rings\n",
      "0  Mercury        No\n",
      "1    Venus        No\n",
      "2    Earth        No\n",
      "3     Mars        No\n",
      "4  Jupiter        No\n",
      "5   Saturn       Yes\n",
      "6   Uranus       Yes\n",
      "7  Neptune       Yes\n"
     ]
    }
   ],
   "source": [
    "query = \"SELECT name, CASE WHEN rings = 1 THEN 'Yes' ELSE 'No' END AS has_rings FROM planets\"\n",
    "\n",
    "result = pd.read_sql_query(query, conn)\n",
    "\n",
    "print(result)\n"
   ]
  },
  {
   "cell_type": "markdown",
   "metadata": {},
   "source": [
    "## Summary"
   ]
  },
  {
   "cell_type": "markdown",
   "metadata": {},
   "source": [
    "Congratulations! NASA is one step closer to embarking upon its mission to Mars. In this lab, You practiced writing `SELECT` statements that query a single table to get specific information. You also used other clauses and specified column names to cherry-pick the data we wanted to retrieve. "
   ]
  }
 ],
 "metadata": {
  "kernelspec": {
   "display_name": "saturn (Python 3)",
   "language": "python",
   "name": "python3"
  },
  "language_info": {
   "codemirror_mode": {
    "name": "ipython",
    "version": 3
   },
   "file_extension": ".py",
   "mimetype": "text/x-python",
   "name": "python",
   "nbconvert_exporter": "python",
   "pygments_lexer": "ipython3",
   "version": "3.10.6"
  },
  "toc": {
   "base_numbering": 1,
   "nav_menu": {},
   "number_sections": true,
   "sideBar": true,
   "skip_h1_title": false,
   "title_cell": "Table of Contents",
   "title_sidebar": "Contents",
   "toc_cell": false,
   "toc_position": {},
   "toc_section_display": true,
   "toc_window_display": false
  }
 },
 "nbformat": 4,
 "nbformat_minor": 2
}
